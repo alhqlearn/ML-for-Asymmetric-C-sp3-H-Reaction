{
  "nbformat": 4,
  "nbformat_minor": 0,
  "metadata": {
    "colab": {
      "name": "SMOTE.ipynb",
      "provenance": [],
      "collapsed_sections": []
    },
    "kernelspec": {
      "name": "python3",
      "display_name": "Python 3"
    },
    "language_info": {
      "name": "python"
    }
  },
  "cells": [
    {
      "cell_type": "code",
      "source": [
        "#import the necessary libraries\n",
        "import os\n",
        "import numpy as np\n",
        "from sklearn.preprocessing import normalize\n",
        "from sklearn.utils import shuffle \n",
        "import math \n",
        "from sklearn.ensemble import RandomForestRegressor\n",
        "from numpy import inf\n",
        "from imblearn.over_sampling import SMOTE\n",
        "from imblearn.over_sampling import BorderlineSMOTE\n",
        "from imblearn.over_sampling import SVMSMOTE\n",
        "from imblearn.over_sampling import ADASYN\n",
        "import pandas as pd\n",
        "from pandas import DataFrame\n",
        "import warnings\n",
        "warnings.filterwarnings(\"ignore\")\n",
        "\n",
        "\n",
        "\n",
        "#read your data file; only experimental with the last column containing output\n",
        "df=pd.read_csv('MLS-LA-LB-LC-LD-Real.csv')\n",
        "\n",
        "\n",
        "#add a column name label with the required condition\n",
        "label=[]\n",
        "for i in df['%ee']:\n",
        "    if i <=80:                # Put the value of output value which will define the minority class, here it is 80\n",
        "        label.append(1)\n",
        "    else:\n",
        "        label.append(0)\n",
        "df['label']=label\n",
        "\n",
        "\n",
        "\n",
        "global num_features\n",
        "global crossvalidate_k \n",
        "\n",
        "#crossvalidate_k = 7 #number of folds for cross-validation\n",
        "mydata=df.to_numpy()\n",
        "num_features = len(mydata[0])-1\n",
        "features = mydata[:,0:num_features]\n",
        "class_output = mydata[:,num_features:]\n",
        "#print(class_output)\n",
        "# Apply regular SMOTE\n",
        "X = features\n",
        "y = class_output\n",
        "sm = BorderlineSMOTE(kind='borderline-2', random_state=42)\n",
        "#sm=SVMSMOTE(random_state=42) #other hyperparameters are defualt\n",
        "#sm=ADASYN(random_state=42) #other hyperparameters are default\n",
        "X_resampled = []\n",
        "y_resampled = []\n",
        "X_res_vis = []\n",
        "#for method in sm:\n",
        "X_res, y_res = sm.fit_resample(X, y)\n",
        "X_resampled.append(X_res)\n",
        "y_resampled.append(y_res)\n",
        "#X_res_vis.append(pca.transform(X_res))\n",
        "print(np.shape(X_resampled))\n",
        "added_data=pd.DataFrame(data=X_resampled[0], columns=list(df.columns[:-1]))\n",
        "added_data.to_csv('MLS-LA-LB-LC-LD-Real-Synthetic.csv', index=False) #put your filename as per your wish\n",
        "\n",
        "\n"
      ],
      "metadata": {
        "colab": {
          "base_uri": "https://localhost:8080/"
        },
        "id": "kNPl1kMhO0qL",
        "outputId": "6ed4642e-ba3e-405b-c976-9470799789cb"
      },
      "execution_count": null,
      "outputs": [
        {
          "output_type": "stream",
          "name": "stdout",
          "text": [
            "(1, 341, 154)\n"
          ]
        }
      ]
    }
  ]
}