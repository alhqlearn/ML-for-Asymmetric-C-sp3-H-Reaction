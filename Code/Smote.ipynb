{
 "cells": [
  {
   "cell_type": "code",
   "execution_count": null,
   "metadata": {
    "colab": {
     "base_uri": "https://localhost:8080/"
    },
    "id": "-zxjX8uBpRt2",
    "outputId": "5f3025e4-1c4e-451e-ab44-faba3aed2e58"
   },
   "outputs": [],
   "source": [
    "#import the necessary libraries\n",
    "import os\n",
    "import numpy as np\n",
    "from sklearn.preprocessing import normalize\n",
    "from sklearn.utils import shuffle \n",
    "import math \n",
    "from sklearn.ensemble import RandomForestRegressor\n",
    "from numpy import inf\n",
    "from imblearn.over_sampling import SMOTE\n",
    "from imblearn.over_sampling import BorderlineSMOTE\n",
    "from imblearn.over_sampling import SVMSMOTE\n",
    "from imblearn.over_sampling import ADASYN\n",
    "from imblearn.over_sampling import KMeansSMOTE\n",
    "\n",
    "\n",
    "import pandas as pd\n",
    "from pandas import DataFrame\n",
    "import warnings\n",
    "warnings.filterwarnings(\"ignore\")\n",
    "\n",
    "\n",
    "\n",
    "#read your data file; only experimental with the last column containing output\n",
    "df=pd.read_csv('MLS-LA-LB-LC-LD-Real.csv')  # Put the filename of experimental dataset\n",
    "\n",
    "\n",
    "#add a column name label with the required condition\n",
    "label=[]\n",
    "for i in df['%ee']:\n",
    "    if i <=80:                # Put the value of output value which will define the minority class, here it is 80\n",
    "        label.append(1)\n",
    "    else:\n",
    "        label.append(0)\n",
    "df['label']=label\n",
    "\n",
    "\n",
    "\n",
    "global num_features\n",
    "global crossvalidate_k \n",
    "\n",
    "#crossvalidate_k = 7 #number of folds for cross-validation\n",
    "mydata=df.to_numpy()\n",
    "num_features = len(mydata[0])-1\n",
    "features = mydata[:,0:num_features]\n",
    "class_output = mydata[:,num_features:]\n",
    "#print(class_output)\n",
    "# Apply regular SMOTE\n",
    "X = features\n",
    "y = class_output\n",
    "#sm = BorderlineSMOTE(kind='borderline-2', random_state=42)\n",
    "sm=SVMSMOTE(random_state=42) #other hyperparameters are defualt\n",
    "#sm=ADASYN(random_state=42) #other hyperparameters are default\n",
    "#sm=KMeansSMOTE(random_state=42)\n",
    "\n",
    "X_resampled = []\n",
    "y_resampled = []\n",
    "X_res_vis = []\n",
    "#for method in sm:\n",
    "X_res, y_res = sm.fit_resample(X, y)\n",
    "X_resampled.append(X_res)\n",
    "y_resampled.append(y_res)\n",
    "#X_res_vis.append(pca.transform(X_res))\n",
    "print(np.shape(X_resampled))\n",
    "added_data=pd.DataFrame(data=X_resampled[0], columns=list(df.columns[:-1]))\n",
    "added_data.to_csv('MLS-LA-LB-LC-LD-Real-Synthetic80svm.csv', index=False) #put (real plus synthetic) datafile name here as  per your wish"
   ]
  }
 ],
 "metadata": {
  "colab": {
   "collapsed_sections": [],
   "name": "Untitled4.ipynb",
   "provenance": []
  },
  "kernelspec": {
   "display_name": "Python 3",
   "language": "python",
   "name": "python3"
  },
  "language_info": {
   "codemirror_mode": {
    "name": "ipython",
    "version": 3
   },
   "file_extension": ".py",
   "mimetype": "text/x-python",
   "name": "python",
   "nbconvert_exporter": "python",
   "pygments_lexer": "ipython3",
   "version": "3.7.4"
  }
 },
 "nbformat": 4,
 "nbformat_minor": 1
}
