import numpy as np
from sklearn.preprocessing import normalize
from sklearn.utils import shuffle 
import math 
from sklearn.ensemble import RandomForestRegressor
from numpy import inf



from imblearn.over_sampling import SMOTE
from imblearn.over_sampling import BorderlineSMOTE 
from imblearn.over_sampling import SVMSMOTE
from imblearn.over_sampling import KMeansSMOTE
from imblearn.over_sampling import ADASYN 

import pandas as pd
from pandas import DataFrame


global num_features
global crossvalidate_k 

crossvalidate_k = 7 #number of folds for cross-validation

mydata = np.genfromtxt('beta_ch_ee_mls_MPAHA_MPAAM_APAO_smote.csv', delimiter=',')
num_features = len(mydata[0])-1

features = mydata[:,0:num_features]
class_output = mydata[:,num_features:]

#print(class_output)


# Apply regular SMOTE
X = features
y = class_output
#kind = ['borderline2']
#kind = ['regular', 'borderline1', 'borderline2', 'svm']
#sm = SMOTE(random_state=42)
sm = BorderlineSMOTE(kind='borderline-2', random_state=42)
#sm = ADASYN(random_state=42)
X_resampled = []
y_resampled = []
X_res_vis = []
#for method in sm:
X_res, y_res = sm.fit_resample(X, y)
X_resampled.append(X_res)
y_resampled.append(y_res)
#X_res_vis.append(pca.transform(X_res))


print(np.shape(X_resampled))


np.savetxt('beta_ch_ee_mls_MPAHA_MPAAM_APAO_syn_upto80_borderline2.csv',X_resampled[0],delimiter=',')
#np.savetxt('L1-2-b1.csv',y_resampled,delimiter=',')
# Create a Pandas Excel writer using XlsxWriter as the engine.
#writer = pd.ExcelWriter('OutputRun-384-classes.xlsx', engine='xlsxwriter')

#df = DataFrame({'Final_X': X_resampled, 'Final_Y': y_resampled})


# Convert the dataframe to an XlsxWriter Excel object.
#df.to_excel(writer, sheet_name='Sheet1')  

# Close the Pandas Excel writer and output the Excel file.
#writer.save()

#to generate synthetic data, add classification to your data into two range, +1 and -1 and then do








